{
 "cells": [
  {
   "cell_type": "markdown",
   "metadata": {},
   "source": [
    "# Experiment: SERs (Surface Enhanced Raman Scattering)\n",
    "\n",
    "## Intuition\n",
    "\n",
    "Using laser to collect Raman Scattering on a transparent subject is difficult.\n",
    "One way to help this is to use Surface Enhanced Raman Scattering technique.\n",
    "This is done by using substrate that is scattering free. \n",
    "Any metal object should be able to use in the SERs.\n",
    "\n",
    "## Objective\n",
    "\n",
    "We learned from Horiba that Thai Baht coin can be used (and commonly in their experiment) in SERs.\n",
    "And the researcher seen aluminum foil was used in one of the experiment.\n",
    "The objective is to assess the scattering of \n",
    "1. Thai Baht Coin\n",
    "2. Aluminum Foil (reflect side)\n",
    "3. Aluminum Foil (matte side)"
   ]
  },
  {
   "cell_type": "markdown",
   "metadata": {},
   "source": []
  }
 ],
 "metadata": {
  "language_info": {
   "name": "python"
  }
 },
 "nbformat": 4,
 "nbformat_minor": 2
}
