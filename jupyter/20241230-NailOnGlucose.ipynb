{
 "cells": [
  {
   "cell_type": "markdown",
   "metadata": {},
   "source": [
    "# Experiment: Penetrating through nail to glucose\n",
    "\n",
    "The experiment is a proof of concept that a 785nm laser can be used in a Raman Setting to measure glucose underneath a nail.\n",
    "\n",
    "## Background\n",
    "When visible light hits an object, the light (photon) can either (1) pass through, (2) get absorbed, and (3) bounce back. The first scenario causes an object to be transparent while the latter two cause color. This phenomenon can also be observed in our hands, specifically, at the nail. When looking closely at the nail, a slight red-ish color is visible. This is because the light hits blood underneath the nail and bounces red color back to our eyes. This means a red light (650 - 800 nm) can travel through the nail, hit the blood, and bounce back. Thus, a 785 nm laser must be able to travel through the nail too."
   ]
  },
  {
   "cell_type": "markdown",
   "metadata": {},
   "source": [
    "## Problem\n",
    "Can we observe Raman Scattering of glucose when a nail is placed on top of glucose? \n",
    "To be able to observe the Raman scattering of glucose, at least these two conditions are satisfied. \n",
    "(1) A laser is penetrated through the nail and (2) the Raman scattering is penetrated through the nail. \n",
    "\n",
    "![img](./image/nailonglucose_fingercrosssection.png)\n",
    "\n",
    "As mentioned in the background, a red color is observable because the red light can travel/penetrate through the nail. A red 785 $\\mathrm{nm}$ laser should also inherit the same behavior. What is left to do is to prove the second condition."
   ]
  },
  {
   "cell_type": "markdown",
   "metadata": {},
   "source": [
    "## Prove by theory\n",
    "\n",
    "A Raman scattering of glucose lies in the range of Raman shift [500, 1500] $\\mathrm{cm^{-1}}$.\n",
    "\n",
    "The Raman shift can be calculated from this equation.\n",
    "\n",
    "$$ k = \\frac{10^7}{\\lambda_{ex} } - \\frac{10^7}{\\lambda_{s} }$$\n",
    "\n",
    "where $k$ is Raman Shift in $\\mathrm{cm^{-1}}$, $\\lambda_{ex}$ is excitation laser in $\\mathrm{nm}$, and $\\lambda_{s}$ is the Raman scattering in $\\mathrm{nm}$.\n",
    "\n",
    "The interested Raman Shift is in the range of [500, 1500] $\\mathrm{cm^{-1}}$ which can be calculated to wavelength as around [815, 890] $\\mathrm{nm}$. \n",
    "This means the second condition will be satisfied if and only if the wavelength around [815, 890] $\\mathrm{nm}$ can penetrate through a nail. \n",
    "In general, a wave with a longer wavelength can penetrate through an object better than the lower one. \n",
    "If a 785 $\\mathrm{nm}$ can penetrate through a nail then [815, 890] $\\mathrm{nm}$ should too.\n",
    "\n",
    "Thus, in theory, the second condition is satisfied."
   ]
  },
  {
   "cell_type": "markdown",
   "metadata": {},
   "source": [
    "## Experiment 1: Prove with IR remote\n",
    "A TV remote control uses infrared (IR) light with a wavelength of around 900 - 940 $\\mathrm{nm}$. \n",
    "This light can not be observed by the naked eye but a typical digital camera can.\n",
    "\n",
    "First, we show that the IR from a remote control is observed by a digital camera. Second, the same phenomenon occurs when a nail is placed in front of the IR source. \n",
    "\n",
    "### Experiment 1A: Nail\n",
    "\n",
    "The picture below shows the experiment setup.\n",
    "A camera is placed about one handed away from the source of IR. \n",
    "A cut nail is placed in the line of sight between the digital camera and source of IR.\n",
    "\n",
    "![img](./image/nailonglucose_ex1-setup.png)\n",
    "\n",
    "During the capture, room light will be turned off and leaving only a light source of monitor screen on. \n",
    "The lighting condition is dim so it will not over power the IR light.\n",
    "\n",
    "![img](./image/nailonglucose_ex1-setup-dim.png)\n",
    "\n",
    "The digital camera setting is ISO=800 and speed shutter=1/8.\n",
    "\n",
    "The procedure is (1) press a button on the remote to turn on the IR and (2) press the shutter button."
   ]
  },
  {
   "cell_type": "markdown",
   "metadata": {},
   "source": [
    "![img](./image/nailonglucose_ex1-0.png)\n",
    "\n",
    "The figure shows an image when IR is not activated (left) and IR is activated (right). \n",
    "The IR is observed as a blue-ish color. "
   ]
  },
  {
   "cell_type": "markdown",
   "metadata": {},
   "source": [
    "![img](./image/nailonglucose_ex1-1.png)\n",
    "\n",
    "As shown in the figure, when the cut nail placed directly on the surface of the IR source, the blue-ish color of the IR radiated some area of the cut nail. The radiation phenomenon could be a result of a wave refraction."
   ]
  },
  {
   "cell_type": "markdown",
   "metadata": {},
   "source": [
    "![img](./image/nailonglucose_ex1-2.png)\n",
    "\n",
    "However, the blue-ish radiation significantly reduced when the cut nail slightly moved away from the IR.\n"
   ]
  },
  {
   "cell_type": "markdown",
   "metadata": {},
   "source": [
    "### Experiment 1B: Finger\n",
    "\n",
    "We extended the experiment from cut nail to a thumb. \n",
    "\n",
    "![img](./image/nailonglucose_ex1b-0.png)\n",
    "\n",
    "A thumb was placed against the IR source and coverd the source completly.\n",
    "The distance between the digital camera and the IR source was kept the same as experiment 1A.\n",
    "However, the room lighting condition was changed.\n",
    "All light including the monitor screen was off.\n",
    "This result in pitch black condition.\n",
    "\n",
    "The ISO setting on the digital camera setting was kept at 800 but the shutter speed was changed from 1/8 second to 10 seconds.\n",
    "The procedure also was kept the same. (1) Press the button on the remote to activate IR then (2) press the shutter button."
   ]
  },
  {
   "cell_type": "markdown",
   "metadata": {},
   "source": [
    "![img](./image/nailonglucose_ex1b-1.png)\n",
    "\n",
    "The figure shows an image with IR deactivated (left) and IR activated (right).\n",
    "The image on the left shows a complete pitch black because there was no light in the room.\n",
    "The glow on the left of an image was the light the reflect from the screen of the phone on the arm.\n",
    "With the IR activated, the tip of the thumb radiated with the same blue-ish color.\n",
    "This may not proof a penetration of the IR through thumb but, at least, it shows that the IR is observable with the digital camera.\n",
    "Thus, the thumb was not blocking the IR."
   ]
  },
  {
   "cell_type": "markdown",
   "metadata": {},
   "source": [
    "To furthur testing this condition, the thumb position was changed from the tip area to the middle of the thumb as shown below.\n",
    "\n",
    "![img](./image/nailonglucose_ex1b-2.png)\n",
    "\n",
    "The pen tip was placed on the right to observed IR that reflected from the skin. "
   ]
  },
  {
   "cell_type": "markdown",
   "metadata": {},
   "source": [
    "For this setup, there were four thumb placement.\n",
    "1. push against the IR source.\n",
    "2. touching the IR source.\n",
    "3. around 1mm away from the IR source.\n",
    "4. 2-3 mm away from the IR source.\n",
    "\n",
    "We expected the (1) blue-ish radiation will get reduced as the thumb get placed farther away from the IR source and (2) when there is a gap between IR source and thumb (placement 3 and 4), IR get reflected from the thumb and hit the pen tip on the right. The pen tip should be more visible as the thumb get placed father away.\n",
    "\n",
    "![img](./image/nailonglucose_ex1b-3.png)\n",
    "\n",
    "The figure shows the expectation on thumb radiation is correct in the placement 1 and 2.\n",
    "However, the placement 3 and 4 were radiated more than placement 2 with different radiation pattern. \n",
    "This maybe due to the refraction.\n",
    "In placement 2, there was no gap for the IR light so the refraction was mitigate.\n",
    "When the gap was introduced in placement 3 and 4, IR can refract easier."
   ]
  },
  {
   "cell_type": "markdown",
   "metadata": {},
   "source": [
    "![img](./image/nailonglucose_ex1b-3-boost.png)\n",
    "\n",
    "To observe the reflection effect, the figure got postprocessed by increasing the exposure in the software.\n",
    "It is clearly shown that when there was no gap (placement 1 and 2), the pen tip was not lit and also the environment around the experiment area.\n",
    "Between the placement 1 and 2, placement 1 has much higher digital noise.\n",
    "This is because the area around was much darker than the one in placement 2.\n",
    "When there was a gap (placement 3 and 4), the experiment area got brighter as a result of reflection and refraction.\n",
    "When the air gap got larger, the reflection also increased.\n",
    "This can be observed in the red circle of placement 3 and 4.\n",
    "The one in placement 4 was clearly brighter than the one in placement 3."
   ]
  },
  {
   "cell_type": "markdown",
   "metadata": {},
   "source": [
    "### Summary\n",
    "\n",
    "Both experiment 1A and 1B shows the same phenomenon, when the object place right on the IR source, the radiation is much more pronounced.\n",
    "Since this IR light is in the range of [900,940] $\\mathrm{nm}$, it may not directly prove that the Raman shift between [815,890] $\\mathrm{nm}$ will inherit the same behavior.\n",
    "We can say that this experiment test the upper limit of the problem.\n",
    "If IR that has a longer wavelength can not passthrough the cut nail, the shorter [815,890] $\\mathrm{nm}$ will also not passthrough too."
   ]
  },
  {
   "cell_type": "markdown",
   "metadata": {},
   "source": [
    "## Experiment 2: Red LED light\n",
    "\n",
    "The lower limit is tested using red LED light from a typical LED in the power extension socket.\n",
    "This red LED light should be in a range [650,800] $\\mathrm{nm}$ which is shorter than the target Raman shift ([815, 890] $\\mathrm{nm}$).\n",
    "\n",
    "The experiment will test the worst case scenario, thumb on light source.\n",
    "\n",
    "Since, the red light is a visible light, the result can be observed by the naked eye. \n",
    "The used of digital camera is to collect the data for presenting only."
   ]
  },
  {
   "cell_type": "markdown",
   "metadata": {},
   "source": [
    "![img](./image/nailonglucose_ex2.png)\n",
    "\n",
    "The red LED was fairly bright as shown in the figure.\n",
    "When thumb was placed against the light source, the radiation can be observed easily by the naked eye.\n",
    "However, collecting the evidence with digital camera was a bit challenging.\n",
    "Thus, the room light was turned off just for collecting the image only."
   ]
  },
  {
   "cell_type": "markdown",
   "metadata": {},
   "source": [
    "## Appendix A\n",
    "\n",
    "![img](./image/nailonglucose_apendix-remote.png)\n",
    "\n",
    "The figure shows the Raman spectra of the remote control. The line in blue is the spectra of the remote control when a button is pressed while the green line is collected while a thumb is placed against the IR source. The peak is clearly shown at around 2100 $\\mathrm{cm^{-1}}$ or 940 $\\mathrm{nm}$. This shows that (1) the remote control in Experiment 1 was a light source at the upper limit, and (2) the IR light at the upper limit can penetrate/radiate through a finger with around 6 times lower power. This means that if there is a Raman scattering in the blood, the scattering should radiate through the skin layer."
   ]
  },
  {
   "cell_type": "markdown",
   "metadata": {},
   "source": [
    "### Summary\n",
    "\n",
    "This short experiment test the lower limit of the penetration using red LED light.\n",
    "Because the red light is shorter than the interested Raman Shift range, it should be difficult for the red light to penetrate through an object compare to another one.\n",
    "The experiment, thus, showed that the red LED light, in the thumb setting, inherit the same behavior with the IR light.\n",
    "\n",
    "The experiment 1 and 2 shall prove that the second condition `the Raman scattering is penetrated through the nail` is satisfied.\n",
    "\n",
    "Finally, since \n",
    "`(1) A laser is penetrated through the nail` is satisfied, and\n",
    "`(2) the Raman scattering is penetrated through the nail` is satisfied, the **Raman scattering of glucose shall be observed when the cut nail is placed directly on top of the glucose**."
   ]
  },
  {
   "cell_type": "markdown",
   "metadata": {},
   "source": [
    "## Experiment 3: Nail on top of glucose\n",
    "\n",
    "![image](./image/nailonglucose_ex3-design.png)\n",
    "\n",
    "From the first two experiments, we can conclude that the Raman Spectra of blood under the skin can be measured, and the power at the sensor varied following the distance between the light source and the obstacle.\n",
    "The figure shows a wave with $\\lambda$ wavelength travels through a finger with two air-gapped $d_1$ and $d_2$.\n",
    "The measured power at the sensor ($P_{\\lambda}^{s}$) is related to the inverted distance from the light source to the finger ($d_1$). Thus we can write.\n",
    "\n",
    "$$ P_{\\lambda}^{s} \\propto \\frac{1}{d_1}$$"
   ]
  },
  {
   "cell_type": "markdown",
   "metadata": {},
   "source": [
    "### Problem Statement \n",
    "\n",
    "Although the goal is to measure blood scattering underneath the skin, the simpler/easier/reduced problem is **Can we measure glucose that is hidden under nail?**\n",
    "The reason are \n",
    "1. Glucose in powder form is much more easy to measure its Raman scattering. \n",
    "2. Nails can be used as a substitute for skin because they inherit similar behavior under light penetration. \n",
    "3. Preparing a nail sample is much more simple than a skin.\n",
    "\n",
    "In this Nail-Glucose setting, the problem can be framed in the figure below."
   ]
  },
  {
   "cell_type": "markdown",
   "metadata": {},
   "source": [
    "![img](./image/nailonglucose_ex3-design-2.png)"
   ]
  },
  {
   "cell_type": "markdown",
   "metadata": {},
   "source": [
    "A laser ($\\lambda_{ex}$) is shined at the object in this case nail with glucose underneath. \n",
    "The laser must travel/penetrate through the nail in order to hit the glucose. \n",
    "The power that hit the nail and glucose will be $P_{\\lambda_{ex}}^{n}$ and $P_{\\lambda_{ex}}^{g}$ respectively.\n",
    "The measured scattering at the sensor in terms of power will be $P_{\\lambda_{n}}^{s}$ and $P_{\\lambda_{g}}^{s}$.\n",
    "Note that $\\lambda_{ex}$ is a single value while $\\lambda_{n}$ and $\\lambda_{g}$ are a set.\n",
    "\n",
    "Raman scattering will happen when there is enough excitation light. This means there is a threshold for $P_{\\lambda_{ex}}^{n}$ before the  $\\lambda_{n}$ is occur. \n",
    "The same case can be applied to the $\\lambda_{g}$ with $P_{\\lambda_{ex}}^{g}$.\n",
    "We can determined $P_{\\lambda_{g}}^{s}$ will exists if\n",
    "1. $P_{\\lambda_{ex}}^{g}$ is large enough which $P_{\\lambda_{ex}}^{g} \\propto \\frac{1}{d_1}$.\n",
    "2. $P_{\\lambda_{g}}^{s}$ is large enough which $P_{\\lambda_{g}}^{s} \\propto \\frac{1}{d_2}$."
   ]
  },
  {
   "cell_type": "markdown",
   "metadata": {},
   "source": [
    "### Objectives\n",
    "\n",
    "1. Find the threshold of $P_{\\lambda_{ex}}^{g}$.\n",
    "2. Determine the effect of $d_2$ on $P_{\\lambda_{g}}^{s}$.\n"
   ]
  },
  {
   "cell_type": "markdown",
   "metadata": {},
   "source": [
    "### Experiment 3A: Glucose Scattering and laser power\n",
    "\n",
    "The experiment aims to find the threshold of $P_{\\lambda_{ex}}^{g}$.\n",
    "The setting is simple. \n",
    "The subject was glucose powder on a foil for the Surface Enhanced Raman setting.\n",
    "The laser was pointed directly at the glucose powder using a macro lens to signify the power and focused on the surface of the glucose powder ($f$).\n",
    "The laser power $P_{\\lambda_{ex}}$ was set to the highest possible (0.71 $\\mathrm{A}$, 350 $\\mathrm{mW}$ ).\n",
    "Directly measuring the $P_{\\lambda_{ex}}^{g}$ is not possible due to lack of equipment but observing $P_{\\lambda_{g}}^{s}$ is possible.\n",
    "Therefore, the assessment time was set to the extreme with exposure of 360 seconds and a single accumulation to make sure slight scattering should be captured by the equipment.\n"
   ]
  },
  {
   "cell_type": "markdown",
   "metadata": {},
   "source": [
    "![image](./image/nailonglucose_ex3a-raw.png)"
   ]
  },
  {
   "cell_type": "markdown",
   "metadata": {},
   "source": [
    "The figure shows a decrease in scattering power captured by the equipment $P_{\\lambda_{g}}^{s}$ as the laser power was reduced $P_{\\lambda_{ex}}$. \n",
    "Even as low as 0.34 $\\mathrm{A}$, the scattering of glucose remained activated.\n",
    "The same thing can not be said for 0.33 and 0.32 $\\mathrm{A}$ configuration."
   ]
  },
  {
   "cell_type": "markdown",
   "metadata": {},
   "source": [
    "![image](./image/nailonglucose_ex3a-raw-norm.png)\n",
    "\n",
    "After the baseline correction, normalization, and mild smoothing, it shows that the glucose scattering can not be restored in the last two configurations ( 0.33 and 0.32 $\\mathrm{A}$ ).\n",
    "However, the last two results still show a slight sign of glucose scattering but the signal was beaten by system noise. \n",
    "\n",
    "#### Summary\n",
    "The glucose scattering is present even when the $P_{\\lambda_{ex}}$ is set to a very low setting (can not be observed by naked eyes).\n",
    "The difficulty of obtaining good assessment is due to the limitation of an equipment which can be mitigated by increasing the assessment time (both exposure and accumulation).\n",
    "\n",
    "However, in real practice where the glucose concentration in blood is timely fluctuating, increasing the assessment time can only be done to some extent.\n",
    "\n",
    "The result does suggest that as long as there is $P_{\\lambda_{ex}}^{g}$ (at least, observable by naked eyes), **$\\lambda_{g}$ will always occur**."
   ]
  },
  {
   "cell_type": "markdown",
   "metadata": {},
   "source": [
    "### Experiment 3B (In progress)\n",
    "\n",
    "![img](./image/nailonglucose_ex3-design-2.png)\n"
   ]
  },
  {
   "cell_type": "markdown",
   "metadata": {},
   "source": [
    "This experiment will determine the effect of $d_2$ on $P_{\\lambda_{g}}^{s}$.\n",
    "\n",
    "Recall to the equation $P_{\\lambda_{g}}^{s} \\propto \\frac{1}{d_2}$\n",
    "and the result from Experiment 3A \"$\\lambda_{g}$ will always occur given $P_{\\lambda_{ex}}^{g}$\", the factor for glucose scattering to be measured at the sensor is $d_2$.\n",
    "\n",
    "The glucose scattering $P_{\\lambda_{g}}$ must be strong enough such that it is penetrating through the cut nail (high enough $P_{\\lambda_{g}}^{n}$) and get measured at the sensor $P_{\\lambda_{g}}^{s}$.\n",
    "\n",
    "\n",
    "The initial experiment setup used glucose powder on foil for the Surface Enhanced Raman setting following Experiment 3A.\n",
    "The laser configuration was the same as in Experiment 3A.\n",
    "There will be three measurements.\n",
    "1. Without a cut nail\n",
    "2. Placing a cut nail on top of glucose powder ($d_2$ close to zero)\n",
    "3. Placing a cut nail above the glucose powder ($d_2$ is large)\n",
    "\n",
    "Since we don't have any equipment to adjust the $d_2$, a sort of box was placed to hold the cut nail above the glucose with $d_2$ equal to 28 $\\mathrm{mm}$."
   ]
  },
  {
   "cell_type": "markdown",
   "metadata": {},
   "source": [
    "![image](./image/nailonglucose_ex3b-setting.png)"
   ]
  },
  {
   "cell_type": "markdown",
   "metadata": {},
   "source": [
    "The figure shows the two configurations where the cut nail was placed with $d_2$ close to zero (left) and $d_2$ at around 28 $\\mathrm{mm}$ (right).\n",
    "The focus length ($f$) was set to focus on the glucose powder surface throughout the experiment. \n",
    "Thus, when the cut nail was moved, the $d_1$ was also changed.\n",
    "As the figure shows, in the second placement where $d_2$ was at 28 $\\mathrm{mm}$, the $d_1$ was also minimized to the lower end.\n",
    "This made the two configurations test for two extreme ends."
   ]
  },
  {
   "cell_type": "markdown",
   "metadata": {},
   "source": [
    "![image](./image/nailonglucose_ex3b-result-raw.png)\n",
    "![image](./image/nailonglucose_ex3b-result-norm.png)"
   ]
  },
  {
   "cell_type": "markdown",
   "metadata": {},
   "source": [
    "The graph shows the Raman scattering of the glucose ($\\lambda_{g}$) in the dark blue line and, the Raman scattering of the cut nail ($\\lambda_{n}$) in the yellow line. \n",
    "The $d_2$ at 0 $\\mathrm{mm}$ configuration is shown in the green line.\n",
    "Finally, both red and light blue line shows the $d_2$ at 28 $\\mathrm{mm}$ with increased exposure from the usual 120 seconds to 360 seconds. \n",
    "\n",
    "Let's consider only the yellow line ($\\lambda_{n}$).\n",
    "It shows a slight bump at 1125 $\\mathrm{cm^{-1}}$.\n",
    "After placing on top of the glucose ($d_2$ close to 0), the measurement clearly shows a peak at 1125 $\\mathrm{cm^{-1}}$, a proof that $\\lambda_{g}$ penetrating through the cut nail.\n",
    "However, it is difficult to conclude that the other end ($d_2$ at 28 $\\mathrm{mm}$) captured a glucose scattering."
   ]
  },
  {
   "cell_type": "markdown",
   "metadata": {},
   "source": [
    "#### Summary\n",
    "\n",
    "Although it was not clear that there was a Raman Scattering of glucose in the $d_2$ at 28 $\\mathrm{mm}$ setup, It is unlikely that the real world, where we want to measure blood glucose under the skin, will have this configuration. \n",
    "With this extensive experiment, we showed that\n",
    "\n",
    "1. Wave in the wavelength in the range [785, 940] $\\mathrm{mm}$ does penetrate through a nail and skin.\n",
    "2. Given $P_{\\lambda_{ex}}^{g}$, there will always be $\\lambda_{g}$.\n",
    "3. $P_{\\lambda_{g}}^{s}$ is related to $P_{\\lambda_{g}}$ and $d_2$.\n",
    "4. As of today, the limitation for measuring glucose with Raman Spectroscopy will be the equipment."
   ]
  },
  {
   "cell_type": "markdown",
   "metadata": {},
   "source": [
    "## Appendix B\n",
    "\n",
    "![image](./image/nailonglucose_apendix-glucose.png)\n",
    "\n"
   ]
  },
  {
   "cell_type": "markdown",
   "metadata": {},
   "source": [
    "The figure shows glucose scattering varying the assessment conditions, namely, laser power ($P_{\\lambda_{ex}}$), exposure time ($t$), and slit size ($s$).\n",
    "The result shows that \n",
    "1. all three parameters ($P_{\\lambda_{ex}}$, $t$, and $s$) do effect the overall power of glucose scattering ($P_{\\lambda_{g}}^{s}$). When either parameters increase, the assessed  ($P_{\\lambda_{g}}^{s}$) will also increase.\n",
    "2. Only the slit size ($s$) affects the shape of the peaks. When $s$ is decreased, a peak is sharper and more pronounced. This is clear at Raman Shift around 1060 and 1125 $\\mathrm{cm^{-1}}$. Comparing them between the $s$ at 0.25 (dark blue) and $s$ at 0.10 (light blue), the peaks in the dark blue line seemed like a single peak with the shifted highest point while the one in light blue clearly showed there were two separate peaks.\n",
    "3. When the benefit of reducing the slit size for a glucose sample is shown in the light blue and yellow line where $s$ is 0.10 and 0.05 respectively. The ($P_{\\lambda_{g}}^{s}$) is reduced by half but it does not reveal any other hidden peaks. "
   ]
  },
  {
   "cell_type": "markdown",
   "metadata": {},
   "source": [
    "![img](./image/nailonglucose_apendix-glucose-norm.png)"
   ]
  },
  {
   "cell_type": "markdown",
   "metadata": {},
   "source": [
    "The figure shows the same set of Raman scatterings after baseline correction and normalization. This shows that\n",
    "1. when $s$ is 0.25 (dark blue and green), not only do the peaks at 1060 $\\mathrm{cm^{-1}}$. get overpowered by 1125 $\\mathrm{cm^{-1}}$. but also other peaks in the signal (clearly observable at 860 and 940 $\\mathrm{cm^{-1}}$). This may be due to the baseline correction step.\n",
    "2. a simple baseline correction and normalization can be used to restore the signal peaks.\n",
    "3. SNR reduced following the $P_{\\lambda_{g}}^{s}$. This shows that most of the noise is system noise."
   ]
  }
 ],
 "metadata": {
  "kernelspec": {
   "display_name": ".venv",
   "language": "python",
   "name": "python3"
  },
  "language_info": {
   "codemirror_mode": {
    "name": "ipython",
    "version": 3
   },
   "file_extension": ".py",
   "mimetype": "text/x-python",
   "name": "python",
   "nbconvert_exporter": "python",
   "pygments_lexer": "ipython3",
   "version": "3.11.9"
  }
 },
 "nbformat": 4,
 "nbformat_minor": 2
}
