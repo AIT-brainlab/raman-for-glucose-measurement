{
 "cells": [
  {
   "cell_type": "markdown",
   "metadata": {},
   "source": [
    "# Experiment: Penetrating through nail to glucose\n",
    "\n",
    "The experiment is a proof of concept that a 785nm laser can be used in a Raman Setting to measure glucose underneath a nail.\n",
    "\n",
    "## Background\n",
    "When visible light hits an object, the light (photon) can either (1) pass through, (2) get absorbed, and (3) bounce back. The first scenario causes an object to be transparent while the latter two cause color. This phenomenon can also be observed in our hands, specifically, at the nail. When looking closely at the nail, a slight red-ish color is visible. This is because the light hits blood underneath the nail and bounces red color back to our eyes. This means a red light (650 - 800 nm) can travel through the nail, hit the blood, and bounce back. Thus, a 785 nm laser must be able to travel through the nail too."
   ]
  },
  {
   "cell_type": "markdown",
   "metadata": {},
   "source": [
    "## Problem\n",
    "Can we observe Raman Scattering of glucose when a nail is placed on top of glucose? \n",
    "To be able to observe the Raman scattering of glucose, at least these two conditions are satisfied. \n",
    "(1) A laser is penetrated through the nail and (2) the Raman scattering is penetrated through the nail. \n",
    "\n",
    "![img](./image/nailonglucose_fingercrosssection.png)\n",
    "\n",
    "As mentioned in the background, a red color is observable because the red light can travel/penetrate through the nail. A red 785 $\\mathrm{nm}$ laser should also inherit the same behavior. What is left to do is to prove the second condition."
   ]
  },
  {
   "cell_type": "markdown",
   "metadata": {},
   "source": [
    "## Prove by theory\n",
    "\n",
    "A Raman scattering of glucose lies in the range of Raman shift [500, 1500] $\\mathrm{cm^{-1}}$.\n",
    "\n",
    "The Raman shift can be calculated from this equation.\n",
    "\n",
    "$$ k = \\frac{10^7}{\\lambda_{ex} } - \\frac{10^7}{\\lambda_{s} }$$\n",
    "\n",
    "where $k$ is Raman Shift in $\\mathrm{cm^{-1}}$, $\\lambda_{ex}$ is excitation laser in $\\mathrm{nm}$, and $\\lambda_{s}$ is the Raman scattering in $\\mathrm{nm}$.\n",
    "\n",
    "The interested Raman Shift is in the range of [500, 1500] $\\mathrm{cm^{-1}}$ which can be calculated to wavelength as around [815, 890] $\\mathrm{nm}$. \n",
    "This means the second condition will be satisfied if and only if the wavelength around [815, 890] $\\mathrm{nm}$ can penetrate through a nail. \n",
    "In general, a wave with a longer wavelength can penetrate through an object better than the lower one. \n",
    "If a 785 $\\mathrm{nm}$ can penetrate through a nail then [815, 890] $\\mathrm{nm}$ should too.\n",
    "\n",
    "Thus, in theory, the second condition is satisfied."
   ]
  },
  {
   "cell_type": "markdown",
   "metadata": {},
   "source": [
    "## Experiment 1: Prove with IR remote\n",
    "A TV remote control uses infrared (IR) light with a wavelength of around 900 - 940 $\\mathrm{nm}$. \n",
    "This light can not be observed by the naked eye but a typical digital camera can.\n",
    "\n",
    "First, we show that the IR from a remote control is observed by a digital camera. Second, the same phenomenon occurs when a nail is placed in front of the IR source. \n",
    "\n",
    "### Experiment 1A: Nail\n",
    "\n",
    "The picture below shows the experiment setup.\n",
    "A camera is placed about one handed away from the source of IR. \n",
    "A cut nail is placed in the line of sight between the digital camera and source of IR.\n",
    "\n",
    "![img](./image/nailonglucose_ex1-setup.png)\n",
    "\n",
    "During the capture, room light will be turned off and leaving only a light source of monitor screen on. \n",
    "The lighting condition is dim so it will not over power the IR light.\n",
    "\n",
    "![img](./image/nailonglucose_ex1-setup-dim.png)\n",
    "\n",
    "The digital camera setting is ISO=800 and speed shutter=1/8.\n",
    "\n",
    "The procedure is (1) press a button on the remote to turn on the IR and (2) press the shutter button."
   ]
  },
  {
   "cell_type": "markdown",
   "metadata": {},
   "source": [
    "![img](./image/nailonglucose_ex1-0.png)\n",
    "\n",
    "The figure shows an image when IR is not activated (left) and IR is activated (right). \n",
    "The IR is observed as a blue-ish color. "
   ]
  },
  {
   "cell_type": "markdown",
   "metadata": {},
   "source": [
    "![img](./image/nailonglucose_ex1-1.png)\n",
    "\n",
    "As shown in the figure, when the cut nail placed directly on the surface of the IR source, the blue-ish color of the IR radiated some area of the cut nail. The radiation phenomenon could be a result of a wave refraction."
   ]
  },
  {
   "cell_type": "markdown",
   "metadata": {},
   "source": [
    "![img](./image/nailonglucose_ex1-2.png)\n",
    "\n",
    "However, the blue-ish radiation significantly reduced when the cut nail slightly moved away from the IR.\n"
   ]
  },
  {
   "cell_type": "markdown",
   "metadata": {},
   "source": [
    "### Experiment 1B: Finger\n",
    "\n",
    "We extended the experiment from cut nail to a thumb. \n",
    "\n",
    "![img](./image/nailonglucose_ex1b-0.png)\n",
    "\n",
    "A thumb was placed against the IR source and coverd the source completly.\n",
    "The distance between the digital camera and the IR source was kept the same as experiment 1A.\n",
    "However, the room lighting condition was changed.\n",
    "All light including the monitor screen was off.\n",
    "This result in pitch black condition.\n",
    "\n",
    "The ISO setting on the digital camera setting was kept at 800 but the shutter speed was changed from 1/8 second to 10 seconds.\n",
    "The procedure also was kept the same. (1) Press the button on the remote to activate IR then (2) press the shutter button."
   ]
  },
  {
   "cell_type": "markdown",
   "metadata": {},
   "source": [
    "![img](./image/nailonglucose_ex1b-1.png)\n",
    "\n",
    "The figure shows an image with IR deactivated (left) and IR activated (right).\n",
    "The image on the left shows a complete pitch black because there was no light in the room.\n",
    "The glow on the left of an image was the light the reflect from the screen of the phone on the arm.\n",
    "With the IR activated, the tip of the thumb radiated with the same blue-ish color.\n",
    "This may not proof a penetration of the IR through thumb but, at least, it shows that the IR is observable with the digital camera.\n",
    "Thus, the thumb was not blocking the IR."
   ]
  },
  {
   "cell_type": "markdown",
   "metadata": {},
   "source": [
    "To furthur testing this condition, the thumb position was changed from the tip area to the middle of the thumb as shown below.\n",
    "\n",
    "![img](./image/nailonglucose_ex1b-2.png)\n",
    "\n",
    "The pen tip was placed on the right to observed IR that reflected from the skin. "
   ]
  },
  {
   "cell_type": "markdown",
   "metadata": {},
   "source": [
    "For this setup, there were four thumb placement.\n",
    "1. push against the IR source.\n",
    "2. touching the IR source.\n",
    "3. around 1mm away from the IR source.\n",
    "4. 2-3 mm away from the IR source.\n",
    "\n",
    "We expected the (1) blue-ish radiation will get reduced as the thumb get placed farther away from the IR source and (2) when there is a gap between IR source and thumb (placement 3 and 4), IR get reflected from the thumb and hit the pen tip on the right. The pen tip should be more visible as the thumb get placed father away.\n",
    "\n",
    "![img](./image/nailonglucose_ex1b-3.png)\n",
    "\n",
    "The figure shows the expectation on thumb radiation is correct in the placement 1 and 2.\n",
    "However, the placement 3 and 4 were radiated more than placement 2 with different radiation pattern. \n",
    "This maybe due to the refraction.\n",
    "In placement 2, there was no gap for the IR light so the refraction was mitigate.\n",
    "When the gap was introduced in placement 3 and 4, IR can refract easier."
   ]
  },
  {
   "cell_type": "markdown",
   "metadata": {},
   "source": [
    "![img](./image/nailonglucose_ex1b-3-boost.png)\n",
    "\n",
    "To observe the reflection effect, the figure got postprocessed by increasing the exposure in the software.\n",
    "It is clearly shown that when there was no gap (placement 1 and 2), the pen tip was not lit and also the environment around the experiment area.\n",
    "Between the placement 1 and 2, placement 1 has much higher digital noise.\n",
    "This is because the area around was much darker than the one in placement 2.\n",
    "When there was a gap (placement 3 and 4), the experiment area got brighter as a result of reflection and refraction.\n",
    "When the air gap got larger, the reflection also increased.\n",
    "This can be observed in the red circle of placement 3 and 4.\n",
    "The one in placement 4 was clearly brighter than the one in placement 3."
   ]
  },
  {
   "cell_type": "markdown",
   "metadata": {},
   "source": [
    "### Summary\n",
    "\n",
    "Both experiment 1A and 1B shows the same phenomenon, when the object place right on the IR source, the radiation is much more pronounced.\n",
    "Since this IR light is in the range of [900,940] $\\mathrm{nm}$, it may not directly prove that the Raman shift between [815,890] $\\mathrm{nm}$ will inherit the same behavior.\n",
    "We can say that this experiment test the upper limit of the problem.\n",
    "If IR that has a longer wavelength can not passthrough the cut nail, the shorter [815,890] $\\mathrm{nm}$ will also not passthrough too."
   ]
  },
  {
   "cell_type": "markdown",
   "metadata": {},
   "source": [
    "## Experiment 2: Red LED light\n",
    "\n",
    "The lower limit is tested using red LED light from a typical LED in the power extension socket.\n",
    "This red LED light should be in a range [650,800] $\\mathrm{nm}$ which is shorter than the target Raman shift ([815, 890] $\\mathrm{nm}$).\n",
    "\n",
    "The experiment will test the worst case scenario, thumb on light source.\n",
    "\n",
    "Since, the red light is a visible light, the result can be observed by the naked eye. \n",
    "The used of digital camera is to collect the data for presenting only."
   ]
  },
  {
   "cell_type": "markdown",
   "metadata": {},
   "source": [
    "![img](./image/nailonglucose_ex2.png)\n",
    "\n",
    "The red LED was fairly bright as shown in the figure.\n",
    "When thumb was placed against the light source, the radiation can be observed easily by the naked eye.\n",
    "However, collecting the evidence with digital camera was a bit challenging.\n",
    "Thus, the room light was turned off just for collecting the image only."
   ]
  },
  {
   "cell_type": "markdown",
   "metadata": {},
   "source": [
    "### Summary\n",
    "\n",
    "This short experiment test the lower limit of the penetration using red LED light.\n",
    "Because the red light is shorter than the interested Raman Shift range, it should be difficult for the red light to penetrate through an object compare to another one.\n",
    "The experiment, thus, showed that the red LED light, in the thumb setting, inherit the same behavior with the IR light.\n",
    "\n",
    "The experiment 1 and 2 shall prove that the second condition `the Raman scattering is penetrated through the nail` is satisfied.\n",
    "\n",
    "Finally, since \n",
    "`(1) A laser is penetrated through the nail` is satisfied, and\n",
    "`(2) the Raman scattering is penetrated through the nail` is satisfied, the **Raman scattering of glucose shall be observed when the cut nail is placed directly on top of the glucose**."
   ]
  },
  {
   "cell_type": "markdown",
   "metadata": {},
   "source": [
    "## Experiment 3: Nail on top of glucose\n",
    "\n"
   ]
  }
 ],
 "metadata": {
  "kernelspec": {
   "display_name": ".venv",
   "language": "python",
   "name": "python3"
  },
  "language_info": {
   "codemirror_mode": {
    "name": "ipython",
    "version": 3
   },
   "file_extension": ".py",
   "mimetype": "text/x-python",
   "name": "python",
   "nbconvert_exporter": "python",
   "pygments_lexer": "ipython3",
   "version": "3.11.9"
  }
 },
 "nbformat": 4,
 "nbformat_minor": 2
}
